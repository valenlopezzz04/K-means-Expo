{
 "cells": [
  {
   "cell_type": "markdown",
   "id": "a243dce1",
   "metadata": {},
   "source": [
    "## ¿Qué es el K-means?\n"
   ]
  },
  {
   "cell_type": "markdown",
   "id": "d99e0202",
   "metadata": {},
   "source": [
    "Es uno de los algoritmos de agrupamiento **(clustering)** más conocidos y utilizados en el campo del aprendizaje automático **no supervisado**. Su objetivo principal es organizar un conjunto de datos sin etiquetas en K grupos distintos. La idea central es que los puntos de datos dentro de un mismo grupo sean lo más similares posible entre sí, mientras que los puntos de diferentes grupos sean lo más disímiles posible."
   ]
  },
  {
   "cell_type": "markdown",
   "id": "345f0a25",
   "metadata": {},
   "source": [
    "## ¿Para qué se usa?"
   ]
  },
  {
   "cell_type": "markdown",
   "id": "15e07fce",
   "metadata": {},
   "source": [
    "Se usa en una gran variedad de industrias para resolver porblemas que no tienen una respuesta **\"Correcta\"** predefinida. Algunas de las aplicaciones más comunes son:"
   ]
  },
  {
   "cell_type": "markdown",
   "id": "78d9b30d",
   "metadata": {},
   "source": [
    "**Segmentación de clientes:** Para dividir una base de clientes en grupos con comportamientos de compra o características demográficas similares.\n",
    "\n",
    "**Análisis de imágenes:** En la compresión de imágenes, el K-means puede reducir la cantidad de colores en una imagen, agrupando colores similares.\n",
    "\n",
    "**Análisis de datos geográficos:** Para identificar áreas con alta concentración de ciertos tipos de datos, como la densidad de tiendas o la propagación de enfermedades."
   ]
  },
  {
   "cell_type": "markdown",
   "id": "454fd622",
   "metadata": {},
   "source": [
    "## **Cluster (Grupo):**\n",
    " Es el resultado final del algoritmo. Un cluster es un conjunto de puntos de datos que han sido agrupados por su similitud.\n"
   ]
  },
  {
   "cell_type": "markdown",
   "id": "9c3fe3d1",
   "metadata": {},
   "source": [
    "## **Centroide**\n",
    "Es el \"corazón\" de un cluster. Es un punto imaginario que representa el centro geométrico o el promedio de todos los puntos de datos dentro de ese cluster. El algoritmo lo usa para determinar la pertenencia de los puntos a los grupos."
   ]
  },
  {
   "cell_type": "markdown",
   "id": "edcbf064",
   "metadata": {},
   "source": [
    "## **K**  \n",
    "Es un valor que se le debe indicar al algoritmo. Representa el número de clusters que se desea crear. La selección de un valor adecuado para K es uno de los pasos más importantes para obtener un resultado significativo."
   ]
  },
  {
   "cell_type": "markdown",
   "id": "ab58ace7",
   "metadata": {},
   "source": []
  },
  {
   "cell_type": "markdown",
   "id": "5311c7d6",
   "metadata": {},
   "source": [
    "\n",
    "# Contexto del Problema: Conociendo los Datos 🐧\n",
    "\n",
    "#### **Descripción del Dataset**\n",
    "\n",
    "El conjunto de datos de pingüinos de Palmer Archipelago contiene información sobre tres especies de pingüinos: Adelia, Chinstrap y Gentoo. Incluye medidas corporales como la longitud del pico, la profundidad del pico, la longitud de las aletas y la masa corporal, así como el sexo y la isla de origen. Este dataset es perfecto para ver cómo un algoritmo de agrupamiento puede encontrar patrones y separar las diferentes especies sin haber sido \"entrenado\" con las etiquetas de especie.\n"
   ]
  },
  {
   "cell_type": "markdown",
   "id": "1ec04ff4",
   "metadata": {},
   "source": [
    "\n",
    "### Variables del Dataset 📊\n",
    "\n",
    "| Variable | Descripción |\n",
    "|---|---|\n",
    "| **species** | Especie del pingüino (Adelie, Chinstrap, Gentoo). |\n",
    "| **island** | Isla del archipiélago Palmer donde se encontró el pingüino. |\n",
    "| **bill_length_mm** | Longitud del pico (culmen) en milímetros. |\n",
    "| **bill_depth_mm** | Profundidad del pico en milímetros. |\n",
    "| **flipper_length_mm**| Longitud de la aleta en milímetros. |\n",
    "| **body_mass_g** | Masa corporal del pingüino en gramos. |\n",
    "| **sex** | Sexo del pingüino (Male, Female). |\n"
   ]
  },
  {
   "cell_type": "code",
   "execution_count": 2,
   "id": "6d459c26",
   "metadata": {},
   "outputs": [
    {
     "data": {
      "text/html": [
       "<div>\n",
       "<style scoped>\n",
       "    .dataframe tbody tr th:only-of-type {\n",
       "        vertical-align: middle;\n",
       "    }\n",
       "\n",
       "    .dataframe tbody tr th {\n",
       "        vertical-align: top;\n",
       "    }\n",
       "\n",
       "    .dataframe thead th {\n",
       "        text-align: right;\n",
       "    }\n",
       "</style>\n",
       "<table border=\"1\" class=\"dataframe\">\n",
       "  <thead>\n",
       "    <tr style=\"text-align: right;\">\n",
       "      <th></th>\n",
       "      <th>species</th>\n",
       "      <th>island</th>\n",
       "      <th>bill_length_mm</th>\n",
       "      <th>bill_depth_mm</th>\n",
       "      <th>flipper_length_mm</th>\n",
       "      <th>body_mass_g</th>\n",
       "      <th>sex</th>\n",
       "    </tr>\n",
       "  </thead>\n",
       "  <tbody>\n",
       "    <tr>\n",
       "      <th>0</th>\n",
       "      <td>Adelie</td>\n",
       "      <td>Torgersen</td>\n",
       "      <td>39.1</td>\n",
       "      <td>18.7</td>\n",
       "      <td>181.0</td>\n",
       "      <td>3750.0</td>\n",
       "      <td>Male</td>\n",
       "    </tr>\n",
       "    <tr>\n",
       "      <th>1</th>\n",
       "      <td>Adelie</td>\n",
       "      <td>Torgersen</td>\n",
       "      <td>39.5</td>\n",
       "      <td>17.4</td>\n",
       "      <td>186.0</td>\n",
       "      <td>3800.0</td>\n",
       "      <td>Female</td>\n",
       "    </tr>\n",
       "    <tr>\n",
       "      <th>2</th>\n",
       "      <td>Adelie</td>\n",
       "      <td>Torgersen</td>\n",
       "      <td>40.3</td>\n",
       "      <td>18.0</td>\n",
       "      <td>195.0</td>\n",
       "      <td>3250.0</td>\n",
       "      <td>Female</td>\n",
       "    </tr>\n",
       "    <tr>\n",
       "      <th>3</th>\n",
       "      <td>Adelie</td>\n",
       "      <td>Torgersen</td>\n",
       "      <td>NaN</td>\n",
       "      <td>NaN</td>\n",
       "      <td>NaN</td>\n",
       "      <td>NaN</td>\n",
       "      <td>NaN</td>\n",
       "    </tr>\n",
       "    <tr>\n",
       "      <th>4</th>\n",
       "      <td>Adelie</td>\n",
       "      <td>Torgersen</td>\n",
       "      <td>36.7</td>\n",
       "      <td>19.3</td>\n",
       "      <td>193.0</td>\n",
       "      <td>3450.0</td>\n",
       "      <td>Female</td>\n",
       "    </tr>\n",
       "  </tbody>\n",
       "</table>\n",
       "</div>"
      ],
      "text/plain": [
       "  species     island  bill_length_mm  bill_depth_mm  flipper_length_mm  \\\n",
       "0  Adelie  Torgersen            39.1           18.7              181.0   \n",
       "1  Adelie  Torgersen            39.5           17.4              186.0   \n",
       "2  Adelie  Torgersen            40.3           18.0              195.0   \n",
       "3  Adelie  Torgersen             NaN            NaN                NaN   \n",
       "4  Adelie  Torgersen            36.7           19.3              193.0   \n",
       "\n",
       "   body_mass_g     sex  \n",
       "0       3750.0    Male  \n",
       "1       3800.0  Female  \n",
       "2       3250.0  Female  \n",
       "3          NaN     NaN  \n",
       "4       3450.0  Female  "
      ]
     },
     "metadata": {},
     "output_type": "display_data"
    },
    {
     "name": "stdout",
     "output_type": "stream",
     "text": [
      "\n",
      "Información del DataFrame:\n",
      "<class 'pandas.core.frame.DataFrame'>\n",
      "RangeIndex: 344 entries, 0 to 343\n",
      "Data columns (total 7 columns):\n",
      " #   Column             Non-Null Count  Dtype  \n",
      "---  ------             --------------  -----  \n",
      " 0   species            344 non-null    object \n",
      " 1   island             344 non-null    object \n",
      " 2   bill_length_mm     342 non-null    float64\n",
      " 3   bill_depth_mm      342 non-null    float64\n",
      " 4   flipper_length_mm  342 non-null    float64\n",
      " 5   body_mass_g        342 non-null    float64\n",
      " 6   sex                333 non-null    object \n",
      "dtypes: float64(4), object(3)\n",
      "memory usage: 18.9+ KB\n"
     ]
    }
   ],
   "source": [
    "import pandas as pd\n",
    "import seaborn as sns\n",
    "\n",
    "# Cargar el dataset de los pingüinos\n",
    "penguins = sns.load_dataset(\"penguins\")\n",
    "\n",
    "# Mostrar una vista rápida de las primeras filas y los tipos de datos\n",
    "display(penguins.head())\n",
    "print(\"\\nInformación del DataFrame:\")\n",
    "penguins.info()"
   ]
  }
 ],
 "metadata": {
  "kernelspec": {
   "display_name": ".venv",
   "language": "python",
   "name": "python3"
  },
  "language_info": {
   "codemirror_mode": {
    "name": "ipython",
    "version": 3
   },
   "file_extension": ".py",
   "mimetype": "text/x-python",
   "name": "python",
   "nbconvert_exporter": "python",
   "pygments_lexer": "ipython3",
   "version": "3.12.2"
  }
 },
 "nbformat": 4,
 "nbformat_minor": 5
}
