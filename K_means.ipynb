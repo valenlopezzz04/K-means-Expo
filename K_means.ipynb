{
 "cells": [
  {
   "cell_type": "markdown",
   "id": "a243dce1",
   "metadata": {},
   "source": [
    "## ¿Qué es el K-means?\n"
   ]
  },
  {
   "cell_type": "markdown",
   "id": "d99e0202",
   "metadata": {},
   "source": [
    "Es uno de los algoritmos de agrupamiento **(clustering)** más conocidos y utilizados en el campo del aprendizaje automático **no supervisado**. Su objetivo principal es organizar un conjunto de datos sin etiquetas en K grupos distintos. La idea central es que los puntos de datos dentro de un mismo grupo sean lo más similares posible entre sí, mientras que los puntos de diferentes grupos sean lo más disímiles posible."
   ]
  },
  {
   "cell_type": "markdown",
   "id": "345f0a25",
   "metadata": {},
   "source": [
    "## ¿Para qué se usa?"
   ]
  },
  {
   "cell_type": "markdown",
   "id": "15e07fce",
   "metadata": {},
   "source": [
    "Se usa en una gran variedad de industrias para resolver porblemas que no tienen una respuesta **\"Correcta\"** predefinida. Algunas de las aplicaciones más comunes son:"
   ]
  },
  {
   "cell_type": "markdown",
   "id": "78d9b30d",
   "metadata": {},
   "source": [
    "**Segmentación de clientes:** Para dividir una base de clientes en grupos con comportamientos de compra o características demográficas similares.\n",
    "\n",
    "**Análisis de imágenes:** En la compresión de imágenes, el K-means puede reducir la cantidad de colores en una imagen, agrupando colores similares.\n",
    "\n",
    "**Análisis de datos geográficos:** Para identificar áreas con alta concentración de ciertos tipos de datos, como la densidad de tiendas o la propagación de enfermedades."
   ]
  },
  {
   "cell_type": "markdown",
   "id": "454fd622",
   "metadata": {},
   "source": [
    "## **Cluster (Grupo):**\n",
    " Es el resultado final del algoritmo. Un cluster es un conjunto de puntos de datos que han sido agrupados por su similitud.\n"
   ]
  },
  {
   "cell_type": "markdown",
   "id": "9c3fe3d1",
   "metadata": {},
   "source": [
    "## **Centroide**\n",
    "Es el \"corazón\" de un cluster. Es un punto imaginario que representa el centro geométrico o el promedio de todos los puntos de datos dentro de ese cluster. El algoritmo lo usa para determinar la pertenencia de los puntos a los grupos."
   ]
  },
  {
   "cell_type": "markdown",
   "id": "edcbf064",
   "metadata": {},
   "source": [
    "## **K**  \n",
    "Es un valor que se le debe indicar al algoritmo. Representa el número de clusters que se desea crear. La selección de un valor adecuado para K es uno de los pasos más importantes para obtener un resultado significativo."
   ]
  },
  {
   "cell_type": "markdown",
   "id": "ab58ace7",
   "metadata": {},
   "source": []
  }
 ],
 "metadata": {
  "language_info": {
   "name": "python"
  }
 },
 "nbformat": 4,
 "nbformat_minor": 5
}
